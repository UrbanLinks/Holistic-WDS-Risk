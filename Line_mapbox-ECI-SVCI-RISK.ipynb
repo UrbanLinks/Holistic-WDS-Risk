{
 "cells": [
  {
   "cell_type": "markdown",
   "metadata": {
    "id": "F4Da_IYUMvQy"
   },
   "source": [
    "Importing the packages"
   ]
  },
  {
   "cell_type": "markdown",
   "metadata": {},
   "source": [
    "# Risk Map"
   ]
  },
  {
   "cell_type": "code",
   "execution_count": 1,
   "metadata": {},
   "outputs": [],
   "source": [
    "import plotly.express as px\n",
    "import plotly.io as pio\n",
    "import pandas as pd\n",
    "import kaleido\n",
    "import geojson"
   ]
  },
  {
   "cell_type": "markdown",
   "metadata": {},
   "source": [
    "# ECI MAP"
   ]
  },
  {
   "cell_type": "code",
   "execution_count": null,
   "metadata": {},
   "outputs": [],
   "source": [
    "with open('ECI-6M.geojson') as f:\n",
    "\n",
    "    # Load the data from the current directory\n",
    "    data = geojson.load(f)\n",
    "\n",
    "feature_collection = geojson.feature.FeatureCollection(data['features'])\n",
    "\n",
    "df_records = []\n",
    "\n",
    "for index, record in enumerate(feature_collection['features']):\n",
    "\n",
    "  # Taking only the pipes that they have the metric as high or very high\n",
    "  if record['properties']['ECI'] :\n",
    "\n",
    "    \n",
    "    for location in record['geometry']['coordinates'][0]:\n",
    "\n",
    "      \n",
    "      df_record = {}\n",
    "\n",
    "      \n",
    "      df_record['lon'], df_record['lat'] = location[0], location[1]\n",
    "\n",
    "      \n",
    "      df_record['line_group'] = index\n",
    "\n",
    "      \n",
    "      df_record['color'] = record['properties']['ECI']\n",
    "\n",
    "      \n",
    "      df_records.append(df_record)\n",
    "\n",
    "\n",
    "Line_plot_data = pd.DataFrame(df_records)"
   ]
  },
  {
   "cell_type": "code",
   "execution_count": null,
   "metadata": {},
   "outputs": [],
   "source": [
    "color_bins = [0, 20, 40, 60, 80, 100]\n",
    "\n",
    "data = Line_plot_data.copy()\n",
    "\n",
    "color_levels = ['very-low', 'low', 'medium', 'high', 'very-high']\n",
    "\n",
    "data['range_color'] = pd.cut(data['color'], bins=color_bins, labels=color_levels, include_lowest=True)\n",
    "\n",
    "data = data[data['range_color'].isin([ 'very-low', 'low', 'medium', 'high', 'very-high'])]\n",
    "\n",
    "# Creating the mapbox plot based on the data stored in the dataframe and set the color of the pipes based on the range_color\n",
    "#fig = px.line_mapbox(data, lat='lat', lon='lon', line_group='line_group',\n",
    "#                     color='range_color', color_discrete_map={'very-low': 'blue', 'low': 'green', 'medium': 'yellow', 'high': 'orange', 'very-high': 'red'})\n",
    "\n",
    "fig = px.line_mapbox(data, lat='lat', lon='lon', line_group='line_group',\n",
    "                     color='range_color', color_discrete_map={'very-low': 'blue', 'low': 'green', 'medium': 'yellow', 'high': 'orange', 'very-high': 'red'})\n",
    "\n",
    "\n",
    "# Setting the layout of the plot\n",
    "fig.update_layout(\n",
    "    mapbox_style='carto-positron',\n",
    "    mapbox_center={\"lat\": data['lat'].mean(),\n",
    "                          \"lon\": data['lon'].mean()},\n",
    "    mapbox_zoom=10,  \n",
    "    showlegend=True,  \n",
    "    legend_title_text='Legend')\n",
    "\n",
    "\n",
    "#fig.show()\n",
    "\n",
    "pio.write_image(fig, 'ECI.jpeg')\n",
    "#fig.write_html(\"file.html\")"
   ]
  },
  {
   "cell_type": "markdown",
   "metadata": {},
   "source": [
    "# SVCI MAP"
   ]
  },
  {
   "cell_type": "code",
   "execution_count": null,
   "metadata": {},
   "outputs": [],
   "source": [
    "with open('Risk.geojson') as f:\n",
    "\n",
    "    # Load the data from the current directory\n",
    "    data = geojson.load(f)\n",
    "\n",
    "feature_collection = geojson.feature.FeatureCollection(data['features'])\n",
    "\n",
    "df_records = []\n",
    "\n",
    "for index, record in enumerate(feature_collection['features']):\n",
    "\n",
    "  # Taking only the pipes that they have the metric as high or very high\n",
    "  if record['properties']['SVCI'] :\n",
    "\n",
    "    \n",
    "    for location in record['geometry']['coordinates'][0]:\n",
    "\n",
    "      \n",
    "      df_record = {}\n",
    "\n",
    "      \n",
    "      df_record['lon'], df_record['lat'] = location[0], location[1]\n",
    "\n",
    "      \n",
    "      df_record['line_group'] = index\n",
    "\n",
    "      \n",
    "      df_record['color'] = record['properties']['SVCI']\n",
    "\n",
    "      \n",
    "      df_records.append(df_record)\n",
    "\n",
    "\n",
    "Line_plot_data = pd.DataFrame(df_records)"
   ]
  },
  {
   "cell_type": "code",
   "execution_count": null,
   "metadata": {},
   "outputs": [],
   "source": [
    "color_bins = [0, 20, 40, 60, 80, 100]\n",
    "\n",
    "data = Line_plot_data.copy()\n",
    "\n",
    "color_levels = ['very-low', 'low', 'medium', 'high', 'very-high']\n",
    "\n",
    "data['range_color'] = pd.cut(data['color'], bins=color_bins, labels=color_levels, include_lowest=True)\n",
    "\n",
    "data = data[data['range_color'].isin([ 'very-low', 'low', 'medium', 'high', 'very-high'])]\n",
    "\n",
    "# Creating the mapbox plot based on the data stored in the dataframe and set the color of the pipes based on the range_color\n",
    "#fig = px.line_mapbox(data, lat='lat', lon='lon', line_group='line_group',\n",
    "#                     color='range_color', color_discrete_map={'very-low': 'blue', 'low': 'green', 'medium': 'yellow', 'high': 'orange', 'very-high': 'red'})\n",
    "\n",
    "fig = px.line_mapbox(data, lat='lat', lon='lon', line_group='line_group',\n",
    "                     color='range_color', color_discrete_map={'very-low': 'blue', 'low': 'green', 'medium': 'yellow', 'high': 'orange', 'very-high': 'red'})\n",
    "\n",
    "\n",
    "# Setting the layout of the plot\n",
    "fig.update_layout(\n",
    "    mapbox_style='carto-positron',\n",
    "    mapbox_center={\"lat\": data['lat'].mean(),\n",
    "                          \"lon\": data['lon'].mean()},\n",
    "    mapbox_zoom=10,  \n",
    "    showlegend=True,  \n",
    "    legend_title_text='Legend')\n",
    "\n",
    "\n",
    "#fig.show()\n",
    "\n",
    "pio.write_image(fig, 'SVCI.jpeg')\n",
    "#fig.write_html(\"file.html\")"
   ]
  },
  {
   "cell_type": "markdown",
   "metadata": {},
   "source": [
    "# RISK MAP"
   ]
  },
  {
   "cell_type": "code",
   "execution_count": 2,
   "metadata": {},
   "outputs": [],
   "source": [
    "with open('Risk.geojson') as f:\n",
    "\n",
    "    # Load the data from the current directory\n",
    "    data = geojson.load(f)\n",
    "\n",
    "feature_collection = geojson.feature.FeatureCollection(data['features'])\n",
    "\n",
    "df_records = []\n",
    "\n",
    "for index, record in enumerate(feature_collection['features']):\n",
    "\n",
    "  # Taking only the pipes that they have the metric as high or very high\n",
    "  if record['properties']['Risk'] :\n",
    "\n",
    "    \n",
    "    for location in record['geometry']['coordinates'][0]:\n",
    "\n",
    "      \n",
    "      df_record = {}\n",
    "\n",
    "      \n",
    "      df_record['lon'], df_record['lat'] = location[0], location[1]\n",
    "\n",
    "      \n",
    "      df_record['line_group'] = index\n",
    "\n",
    "      \n",
    "      df_record['color'] = record['properties']['Risk']\n",
    "\n",
    "      \n",
    "      df_records.append(df_record)\n",
    "\n",
    "\n",
    "Line_plot_data = pd.DataFrame(df_records)"
   ]
  },
  {
   "cell_type": "code",
   "execution_count": null,
   "metadata": {},
   "outputs": [],
   "source": [
    "color_bins = [0, 20, 40, 60, 80, 100]\n",
    "\n",
    "data = Line_plot_data.copy()\n",
    "\n",
    "color_levels = ['very-low', 'low', 'medium', 'high', 'very-high']\n",
    "\n",
    "data['range_color'] = pd.cut(data['color'], bins=color_bins, labels=color_levels, include_lowest=True)\n",
    "\n",
    "data = data[data['range_color'].isin([ 'very-low', 'low', 'medium', 'high', 'very-high'])]\n",
    "\n",
    "# Creating the mapbox plot based on the data stored in the dataframe and set the color of the pipes based on the range_color\n",
    "#fig = px.line_mapbox(data, lat='lat', lon='lon', line_group='line_group',\n",
    "#                     color='range_color', color_discrete_map={'very-low': 'blue', 'low': 'green', 'medium': 'yellow', 'high': 'orange', 'very-high': 'red'})\n",
    "\n",
    "fig = px.line_mapbox(data, lat='lat', lon='lon', line_group='line_group',\n",
    "                     color='range_color', color_discrete_map={'very-low': 'blue', 'low': 'green', 'medium': 'yellow', 'high': 'orange', 'very-high': 'red'})\n",
    "\n",
    "\n",
    "# Setting the layout of the plot\n",
    "fig.update_layout(\n",
    "    mapbox_style='carto-positron',\n",
    "    mapbox_center={\"lat\": data['lat'].mean(),\n",
    "                          \"lon\": data['lon'].mean()},\n",
    "    mapbox_zoom=10,  \n",
    "    showlegend=True,  \n",
    "    legend_title_text='Legend')\n",
    "\n",
    "\n",
    "#fig.show()\n",
    "\n",
    "pio.write_image(fig, 'RISK.jpeg')\n",
    "#fig.write_html(\"file.html\")"
   ]
  },
  {
   "cell_type": "code",
   "execution_count": null,
   "metadata": {},
   "outputs": [],
   "source": []
  }
 ],
 "metadata": {
  "colab": {
   "provenance": []
  },
  "kernelspec": {
   "display_name": "Python 3 (ipykernel)",
   "language": "python",
   "name": "python3"
  },
  "language_info": {
   "codemirror_mode": {
    "name": "ipython",
    "version": 3
   },
   "file_extension": ".py",
   "mimetype": "text/x-python",
   "name": "python",
   "nbconvert_exporter": "python",
   "pygments_lexer": "ipython3",
   "version": "3.10.9"
  }
 },
 "nbformat": 4,
 "nbformat_minor": 1
}
