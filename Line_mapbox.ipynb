{
 "cells": [
  {
   "cell_type": "markdown",
   "metadata": {
    "id": "F4Da_IYUMvQy"
   },
   "source": [
    "Importing the packages"
   ]
  },
  {
   "cell_type": "code",
   "execution_count": 1,
   "metadata": {
    "colab": {
     "base_uri": "https://localhost:8080/"
    },
    "id": "gkprC3YhMwpC",
    "outputId": "cab60523-f993-4de7-bdc8-ed2f6fa4a32c"
   },
   "outputs": [
    {
     "name": "stdout",
     "output_type": "stream",
     "text": [
      "Requirement already satisfied: geojson in c:\\users\\becky\\appdata\\local\\packages\\pythonsoftwarefoundation.python.3.8_qbz5n2kfra8p0\\localcache\\local-packages\\python38\\site-packages (3.0.1)\n",
      "\n",
      "[notice] A new release of pip available: 22.2 -> 23.2.1\n",
      "[notice] To update, run: C:\\Users\\becky\\AppData\\Local\\Microsoft\\WindowsApps\\PythonSoftwareFoundation.Python.3.8_qbz5n2kfra8p0\\python.exe -m pip install --upgrade pip\n",
      "Note: you may need to restart the kernel to use updated packages.\n",
      "Requirement already satisfied: kaleido in c:\\users\\becky\\appdata\\local\\packages\\pythonsoftwarefoundation.python.3.8_qbz5n2kfra8p0\\localcache\\local-packages\\python38\\site-packages (0.2.1)\n",
      "\n",
      "[notice] A new release of pip available: 22.2 -> 23.2.1\n",
      "[notice] To update, run: C:\\Users\\becky\\AppData\\Local\\Microsoft\\WindowsApps\\PythonSoftwareFoundation.Python.3.8_qbz5n2kfra8p0\\python.exe -m pip install --upgrade pip\n",
      "Note: you may need to restart the kernel to use updated packages.\n"
     ]
    }
   ],
   "source": [
    "import plotly.express as px\n",
    "import plotly.io as pio\n",
    "import pandas as pd\n",
    "%pip install geojson\n",
    "%pip install kaleido\n",
    "import geojson"
   ]
  },
  {
   "cell_type": "markdown",
   "metadata": {
    "id": "_31Ve1mFlm-O"
   },
   "source": [
    "Creating the dataframe based on the geojson file"
   ]
  },
  {
   "cell_type": "markdown",
   "metadata": {},
   "source": [
    "# SVCI Map"
   ]
  },
  {
   "cell_type": "code",
   "execution_count": 2,
   "metadata": {
    "id": "jXE_g6NaeBAz"
   },
   "outputs": [],
   "source": [
    "with open('Risk-framework.geojson') as f:\n",
    "\n",
    "    # Load the data from the current directory\n",
    "    data = geojson.load(f)\n",
    "\n",
    "feature_collection = geojson.feature.FeatureCollection(data['features'])\n",
    "\n",
    "df_records = []\n",
    "\n",
    "for index, record in enumerate(feature_collection['features']):\n",
    "\n",
    "  # Taking only the pipes that they have the metric as high or very high\n",
    "  if record['properties']['SVCI'] >= 40:\n",
    "\n",
    "    \n",
    "    for location in record['geometry']['coordinates'][0]:\n",
    "\n",
    "      \n",
    "      df_record = {}\n",
    "\n",
    "      \n",
    "      df_record['lon'], df_record['lat'] = location[0], location[1]\n",
    "\n",
    "      \n",
    "      df_record['line_group'] = index\n",
    "\n",
    "      \n",
    "      df_record['color'] = record['properties']['SVCI']\n",
    "\n",
    "      \n",
    "      df_records.append(df_record)\n",
    "\n",
    "\n",
    "Line_plot_data = pd.DataFrame(df_records)"
   ]
  },
  {
   "cell_type": "markdown",
   "metadata": {
    "id": "MEWsT4nDly4C"
   },
   "source": [
    "Filtering the records and making the plots"
   ]
  },
  {
   "cell_type": "code",
   "execution_count": 3,
   "metadata": {
    "colab": {
     "base_uri": "https://localhost:8080/",
     "height": 542
    },
    "id": "1adj-oSw2x5s",
    "outputId": "453a2bc3-cc26-44cf-fe0e-529efd706e30"
   },
   "outputs": [],
   "source": [
    "color_bins = [0, 20, 40, 60, 80, 100]\n",
    "\n",
    "data = Line_plot_data.copy()\n",
    "\n",
    "color_levels = ['very-low', 'low', 'medium', 'high', 'very-high']\n",
    "\n",
    "data['range_color'] = pd.cut(data['color'], bins=color_bins, labels=color_levels, include_lowest=True)\n",
    "\n",
    "data = data[data['range_color'].isin([ 'medium','high' , 'very-high'])]\n",
    "\n",
    "# Creating the mapbox plot based on the data stored in the dataframe and set the color of the pipes based on the range_color\n",
    "#fig = px.line_mapbox(data, lat='lat', lon='lon', line_group='line_group',\n",
    "#                     color='range_color', color_discrete_map={'very-low': 'blue', 'low': 'green', 'medium': 'yellow', 'high': 'orange', 'very-high': 'red'})\n",
    "\n",
    "fig = px.line_mapbox(data, lat='lat', lon='lon', line_group='line_group',\n",
    "                     color='range_color', color_discrete_map={'very-low': 'rgba(0,0,0,0)', 'low': 'rgba(0,0,0,0)', 'medium': 'yellow', 'high': 'orange', 'very-high': 'red'})\n",
    "\n",
    "\n",
    "# Setting the layout of the plot\n",
    "fig.update_layout(\n",
    "    mapbox_style='carto-positron',\n",
    "    mapbox_center={\"lat\": data['lat'].mean(),\n",
    "                          \"lon\": data['lon'].mean()},\n",
    "    mapbox_zoom=10,  \n",
    "    showlegend=True,  \n",
    "    legend_title_text='Legend')\n",
    "\n",
    "\n",
    "#fig.show()\n",
    "\n",
    "pio.write_image(fig, 'SVCI.jpeg')\n",
    "fig.write_html(\"file.html\")"
   ]
  },
  {
   "cell_type": "markdown",
   "metadata": {},
   "source": [
    "# Risk Map"
   ]
  },
  {
   "cell_type": "code",
   "execution_count": null,
   "metadata": {},
   "outputs": [],
   "source": [
    "with open('Risk-framework.geojson') as f:\n",
    "\n",
    "    # Load the data from the current directory\n",
    "    data = geojson.load(f)\n",
    "\n",
    "feature_collection = geojson.feature.FeatureCollection(data['features'])\n",
    "\n",
    "df_records = []\n",
    "\n",
    "for index, record in enumerate(feature_collection['features']):\n",
    "\n",
    "  # Taking only the pipes that they have the metric as high or very high\n",
    "  if record['properties']['Risk'] >= 40:\n",
    "\n",
    "    \n",
    "    for location in record['geometry']['coordinates'][0]:\n",
    "\n",
    "      \n",
    "      df_record = {}\n",
    "\n",
    "      \n",
    "      df_record['lon'], df_record['lat'] = location[0], location[1]\n",
    "\n",
    "      \n",
    "      df_record['line_group'] = index\n",
    "\n",
    "      \n",
    "      df_record['color'] = record['properties']['Risk']\n",
    "\n",
    "      \n",
    "      df_records.append(df_record)\n",
    "\n",
    "\n",
    "Line_plot_data = pd.DataFrame(df_records)"
   ]
  },
  {
   "cell_type": "code",
   "execution_count": null,
   "metadata": {},
   "outputs": [],
   "source": [
    "color_bins = [0, 20, 40, 60, 80, 100]\n",
    "\n",
    "data = Line_plot_data.copy()\n",
    "\n",
    "color_levels = ['very-low', 'low', 'medium', 'high', 'very-high']\n",
    "\n",
    "data['range_color'] = pd.cut(data['color'], bins=color_bins, labels=color_levels, include_lowest=True)\n",
    "\n",
    "data = data[data['range_color'].isin([ 'medium','high' , 'very-high'])]\n",
    "\n",
    "# Creating the mapbox plot based on the data stored in the dataframe and set the color of the pipes based on the range_color\n",
    "fig = px.line_mapbox(data, lat='lat', lon='lon', line_group='line_group',\n",
    "                     color='range_color', color_discrete_map={'very-low': 'blue', 'low': 'green', 'medium': 'yellow', 'high': 'orange', 'very-high': 'red'})\n",
    "\n",
    "# Setting the layout of the plot\n",
    "fig.update_layout(\n",
    "    mapbox_style='carto-positron',\n",
    "    mapbox_center={\"lat\": data['lat'].mean(),\n",
    "                          \"lon\": data['lon'].mean()},\n",
    "    mapbox_zoom=10,  \n",
    "    showlegend=True,  \n",
    "    legend_title_text='Legend')\n",
    "\n",
    "\n",
    "#fig.show()\n",
    "\n",
    "fig.write_html(\"file.html\")"
   ]
  },
  {
   "cell_type": "code",
   "execution_count": null,
   "metadata": {},
   "outputs": [],
   "source": []
  }
 ],
 "metadata": {
  "colab": {
   "provenance": []
  },
  "kernelspec": {
   "display_name": "Python 3 (ipykernel)",
   "language": "python",
   "name": "python3"
  },
  "language_info": {
   "codemirror_mode": {
    "name": "ipython",
    "version": 3
   },
   "file_extension": ".py",
   "mimetype": "text/x-python",
   "name": "python",
   "nbconvert_exporter": "python",
   "pygments_lexer": "ipython3",
   "version": "3.8.10"
  }
 },
 "nbformat": 4,
 "nbformat_minor": 1
}
